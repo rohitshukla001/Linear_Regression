{
 "cells": [
  {
   "cell_type": "markdown",
   "id": "65426454",
   "metadata": {},
   "source": [
    "# Import libaries"
   ]
  },
  {
   "cell_type": "code",
   "execution_count": 1,
   "id": "9243a0b4",
   "metadata": {},
   "outputs": [],
   "source": [
    "import pandas as pd\n",
    "import numpy as np\n",
    "import seaborn as sb\n",
    "import matplotlib.pyplot as plt\n",
    "from sklearn import linear_model"
   ]
  },
  {
   "cell_type": "markdown",
   "id": "22e065ec",
   "metadata": {},
   "source": [
    "# Import Datasets"
   ]
  },
  {
   "cell_type": "code",
   "execution_count": 2,
   "id": "dd6a7a4a",
   "metadata": {},
   "outputs": [],
   "source": [
    "mydata=pd.read_excel(r\"C:\\Users\\LENOVO\\Desktop\\HideData.xlsx\")"
   ]
  },
  {
   "cell_type": "code",
   "execution_count": 3,
   "id": "04541337",
   "metadata": {},
   "outputs": [],
   "source": [
    "#mydata"
   ]
  },
  {
   "cell_type": "markdown",
   "id": "4b4b655e",
   "metadata": {},
   "source": [
    "# Define x and y"
   ]
  },
  {
   "cell_type": "code",
   "execution_count": 4,
   "id": "c83ea3cf",
   "metadata": {},
   "outputs": [],
   "source": [
    "x=mydata.drop(['Price'], axis=1)\n",
    "y=mydata.Price"
   ]
  },
  {
   "cell_type": "markdown",
   "id": "2634d264",
   "metadata": {},
   "source": [
    "\n",
    "# Split the dataset in training set and test set"
   ]
  },
  {
   "cell_type": "code",
   "execution_count": 5,
   "id": "72b4c893",
   "metadata": {},
   "outputs": [],
   "source": [
    "from sklearn.model_selection import train_test_split\n",
    "x_train, x_test, y_train, y_test = train_test_split(x, y, test_size=0.33, random_state=0)"
   ]
  },
  {
   "cell_type": "markdown",
   "id": "f1ca2785",
   "metadata": {},
   "source": [
    "# Train the model on the training set"
   ]
  },
  {
   "cell_type": "code",
   "execution_count": 6,
   "id": "c08f4ae1",
   "metadata": {},
   "outputs": [
    {
     "data": {
      "text/plain": [
       "LinearRegression()"
      ]
     },
     "execution_count": 6,
     "metadata": {},
     "output_type": "execute_result"
    }
   ],
   "source": [
    "from sklearn.linear_model import LinearRegression\n",
    "ml=LinearRegression()\n",
    "ml.fit(x_train, y_train)"
   ]
  },
  {
   "cell_type": "markdown",
   "id": "4bc07a7c",
   "metadata": {},
   "source": [
    "# Predict the test set results"
   ]
  },
  {
   "cell_type": "code",
   "execution_count": 7,
   "id": "5f36199d",
   "metadata": {},
   "outputs": [],
   "source": [
    "y_pred=ml.predict(x_test)\n",
    "#y_pred"
   ]
  },
  {
   "cell_type": "code",
   "execution_count": 8,
   "id": "3438c488",
   "metadata": {},
   "outputs": [
    {
     "data": {
      "text/plain": [
       "array([127.27010217])"
      ]
     },
     "execution_count": 8,
     "metadata": {},
     "output_type": "execute_result"
    }
   ],
   "source": [
    "ml.predict([[37.88,41,880,129]])"
   ]
  },
  {
   "cell_type": "markdown",
   "id": "1750f879",
   "metadata": {},
   "source": [
    "# Evaluate the model"
   ]
  },
  {
   "cell_type": "code",
   "execution_count": 9,
   "id": "89657188",
   "metadata": {},
   "outputs": [],
   "source": [
    "from sklearn.metrics import r2_score"
   ]
  },
  {
   "cell_type": "code",
   "execution_count": 10,
   "id": "5e9c88a0",
   "metadata": {},
   "outputs": [
    {
     "data": {
      "text/plain": [
       "0.9924534908951723"
      ]
     },
     "execution_count": 10,
     "metadata": {},
     "output_type": "execute_result"
    }
   ],
   "source": [
    "r2_score(y_test, y_pred)"
   ]
  },
  {
   "cell_type": "markdown",
   "id": "32a7bc29",
   "metadata": {},
   "source": [
    "# Plat the result"
   ]
  },
  {
   "cell_type": "code",
   "execution_count": 11,
   "id": "537e68ec",
   "metadata": {},
   "outputs": [],
   "source": [
    "#plt.scatter(y_test, y_pred)"
   ]
  },
  {
   "cell_type": "markdown",
   "id": "4f883de2",
   "metadata": {},
   "source": [
    "# Predicated values"
   ]
  },
  {
   "cell_type": "code",
   "execution_count": 12,
   "id": "ccb82572",
   "metadata": {},
   "outputs": [],
   "source": [
    "pred_y_df=pd.DataFrame({'Actual Value':y_test, 'Predcted Value':y_pred, 'Diffrence':y_test-y_pred})\n",
    "#pred_y_df[0:20]"
   ]
  },
  {
   "cell_type": "code",
   "execution_count": null,
   "id": "d6b914ba",
   "metadata": {},
   "outputs": [],
   "source": []
  }
 ],
 "metadata": {
  "kernelspec": {
   "display_name": "Python 3",
   "language": "python",
   "name": "python3"
  },
  "language_info": {
   "codemirror_mode": {
    "name": "ipython",
    "version": 3
   },
   "file_extension": ".py",
   "mimetype": "text/x-python",
   "name": "python",
   "nbconvert_exporter": "python",
   "pygments_lexer": "ipython3",
   "version": "3.8.8"
  }
 },
 "nbformat": 4,
 "nbformat_minor": 5
}
